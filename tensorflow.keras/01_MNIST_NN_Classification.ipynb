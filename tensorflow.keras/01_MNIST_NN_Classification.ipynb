{
  "nbformat": 4,
  "nbformat_minor": 0,
  "metadata": {
    "colab": {
      "name": "MNIST_NN.ipynb",
      "provenance": [],
      "collapsed_sections": [],
      "include_colab_link": true
    },
    "kernelspec": {
      "name": "python3",
      "display_name": "Python 3"
    },
    "accelerator": "GPU"
  },
  "cells": [
    {
      "cell_type": "markdown",
      "metadata": {
        "id": "view-in-github",
        "colab_type": "text"
      },
      "source": [
        "<a href=\"https://colab.research.google.com/github/drvoss/Colab-Notebooks/blob/master/MNIST_NN.ipynb\" target=\"_parent\"><img src=\"https://colab.research.google.com/assets/colab-badge.svg\" alt=\"Open In Colab\"/></a>"
      ]
    },
    {
      "cell_type": "code",
      "metadata": {
        "id": "DJYseyIe-YGq",
        "colab_type": "code",
        "colab": {
          "base_uri": "https://localhost:8080/",
          "height": 1000
        },
        "outputId": "191f1dfc-eefa-43a3-d94e-e711591e27a5"
      },
      "source": [
        "from tensorflow.keras.datasets import mnist\n",
        "from tensorflow.keras.layers import Activation, Dense, Dropout\n",
        "from tensorflow.keras.models import Sequential\n",
        "from tensorflow.keras.optimizers import SGD\n",
        "from tensorflow.keras.utils import to_categorical\n",
        "import numpy as np\n",
        "from numpy import argmax\n",
        "import matplotlib.pyplot as plt\n",
        "%matplotlib inline\n",
        "\n",
        "#텐서플로에 포함된 MNIST 데이터셋 로드\n",
        "(train_images, train_labels), (test_images, test_labels) = mnist.load_data()\n",
        "\n",
        "#ndarray이 shape로 배열의 차원수를 확인한다\n",
        "print('[*] train images shape : ', train_images.shape) # (60000, 28, 28) : 60000x28x28의 3차원 배열\n",
        "print('[*] test images shape : ', test_images.shape)\n",
        "print('[*] train labels shape : ', train_labels.shape) # (60000,) : 1차원 배열\n",
        "print('[*] test labels shape : ', test_labels.shape)\n",
        "\n",
        "#train dataset 출력\n",
        "print('[*] Train Data Set')\n",
        "for i in range(10):\n",
        "  plt.subplot(1, 10, i+1)\n",
        "  plt.imshow(train_images[i], 'gray')\n",
        "plt.show()\n",
        "print(train_labels[0:10])\n",
        "\n",
        "#test dataset 출력\n",
        "print('[*] Test Data Set')\n",
        "for i in range(10):\n",
        "  plt.subplot(1, 10, i+1)\n",
        "  plt.imshow(test_images[i], 'gray')\n",
        "plt.show()\n",
        "print(test_labels[0:10])\n",
        "\n",
        "# 데이터셋을 뉴럴 네트워크에 적합한 형태로 전환하는 전처리 작업\n",
        "train_images = train_images.reshape((train_images.shape[0], 28*28))\n",
        "test_images = test_images.reshape((test_images.shape[0], 28*28))\n",
        "print('[*] train images shape after prework : ', train_images.shape)\n",
        "print('[*] test images shape after prework : ', test_images.shape)\n",
        "\n",
        "# 라벨을 one-hot 표현으로 변환, 카테고리화 # 2 -> 001000000\n",
        "train_labels = to_categorical(train_labels)\n",
        "test_labels = to_categorical(test_labels)\n",
        "print('[*] train labels shape after categorical : ', train_labels.shape)\n",
        "print('[*] test labels shape after categorical : ', test_labels.shape)\n",
        "\n",
        "# 모델 생성\n",
        "model = Sequential()\n",
        "model.add(Dense(256, activation='sigmoid', input_shape=(784, ))) # 입력레이어\n",
        "model.add(Dense(128, activation='sigmoid')) # 히든레이어\n",
        "model.add(Dropout(rate=0.5)) # 드롭아웃\n",
        "model.add(Dense(10, activation='softmax')) # 출력레이어\n",
        "\n",
        "# 모델 컴파일\n",
        "model.compile(loss='categorical_crossentropy', optimizer=SGD(lr=0.1), metrics=['accuracy'])\n",
        "\n",
        "# 학습\n",
        "print('[*] fitting start')\n",
        "history = model.fit(train_images\n",
        "                    , train_labels\n",
        "                    , batch_size=500 # 훈련시킬 단위, 클수록 학습속도가 빠르나 메모리 소비량 증가\n",
        "                    , epochs=10 # 이폭수, 훈련데이터를 전부 사용하면 1이폭\n",
        "                    , validation_split=0.2) #훈련데이터 중 검증데이터로 사용할 비율\n",
        "                                            #훈련 데이터의 일부를 훈련에 이용하지 않음\n",
        "print('[*] fitting end')\n",
        "\n",
        "# 학습 내용을 그래프를 이용하여 표시\n",
        "plt.plot(history.history['acc'], label='acc')\n",
        "plt.plot(history.history['val_acc'], label='val_acc')\n",
        "plt.xlabel('accuracy')\n",
        "plt.ylabel('epoch')\n",
        "plt.legend(loc='best')\n",
        "plt.show()\n",
        "\n",
        "# 평가\n",
        "print('[*] evaluation')\n",
        "test_loss, test_acc = model.evaluate(test_images, test_labels)\n",
        "print('loss : {:.1f}%\\naccuracy : {:.1f}%'.format(test_loss*100, test_acc*100))\n",
        "\n",
        "# 첫번재 10개의 데이터를 이용해 테스트 이미지 추론\n",
        "print('[*] evaluation test')\n",
        "for i in range(10):\n",
        "  plt.subplot(1, 10, i+1)\n",
        "  plt.imshow(test_images[i].reshape(28, 28), 'gray')\n",
        "plt.show()\n",
        "test_predictions = model.predict(test_images[0:10])\n",
        "print('labels : ', argmax(test_labels[0:10], axis=1))\n",
        "print('predic : ', argmax(test_predictions, axis=1))"
      ],
      "execution_count": 13,
      "outputs": [
        {
          "output_type": "stream",
          "text": [
            "[*] train images shape :  (60000, 28, 28)\n",
            "[*] test images shape :  (10000, 28, 28)\n",
            "[*] train labels shape :  (60000,)\n",
            "[*] test labels shape :  (10000,)\n",
            "[*] Train Data Set\n"
          ],
          "name": "stdout"
        },
        {
          "output_type": "display_data",
          "data": {
            "image/png": "[encoded data removed]",
            "text/plain": [
              "<Figure size 432x288 with 10 Axes>"
            ]
          },
          "metadata": {
            "tags": []
          }
        },
        {
          "output_type": "stream",
          "text": [
            "[5 0 4 1 9 2 1 3 1 4]\n",
            "[*] Test Data Set\n"
          ],
          "name": "stdout"
        },
        {
          "output_type": "display_data",
          "data": {
            "image/png": "[encoded data removed]",
            "text/plain": [
              "<Figure size 432x288 with 10 Axes>"
            ]
          },
          "metadata": {
            "tags": []
          }
        },
        {
          "output_type": "stream",
          "text": [
            "[7 2 1 0 4 1 4 9 5 9]\n",
            "[*] train images shape after prework :  (60000, 784)\n",
            "[*] test images shape after prework :  (10000, 784)\n",
            "[*] train labels shape after categorical :  (60000, 10)\n",
            "[*] test labels shape after categorical :  (10000, 10)\n",
            "[*] fitting start\n",
            "Train on 48000 samples, validate on 12000 samples\n",
            "Epoch 1/10\n",
            "48000/48000 [==============================] - 1s 18us/sample - loss: 1.7496 - acc: 0.4224 - val_loss: 1.0321 - val_acc: 0.8245\n",
            "Epoch 2/10\n",
            "48000/48000 [==============================] - 1s 13us/sample - loss: 0.9662 - acc: 0.7261 - val_loss: 0.6077 - val_acc: 0.8783\n",
            "Epoch 3/10\n",
            "48000/48000 [==============================] - 1s 13us/sample - loss: 0.6887 - acc: 0.8107 - val_loss: 0.4536 - val_acc: 0.8972\n",
            "Epoch 4/10\n",
            "48000/48000 [==============================] - 1s 13us/sample - loss: 0.5599 - acc: 0.8481 - val_loss: 0.3816 - val_acc: 0.9041\n",
            "Epoch 5/10\n",
            "48000/48000 [==============================] - 1s 13us/sample - loss: 0.4913 - acc: 0.8660 - val_loss: 0.3378 - val_acc: 0.9132\n",
            "Epoch 6/10\n",
            "48000/48000 [==============================] - 1s 12us/sample - loss: 0.4405 - acc: 0.8801 - val_loss: 0.3087 - val_acc: 0.9155\n",
            "Epoch 7/10\n",
            "48000/48000 [==============================] - 1s 12us/sample - loss: 0.4114 - acc: 0.8854 - val_loss: 0.2907 - val_acc: 0.9209\n",
            "Epoch 8/10\n",
            "48000/48000 [==============================] - 1s 13us/sample - loss: 0.3816 - acc: 0.8938 - val_loss: 0.2716 - val_acc: 0.9254\n",
            "Epoch 9/10\n",
            "48000/48000 [==============================] - 1s 13us/sample - loss: 0.3607 - acc: 0.9002 - val_loss: 0.2600 - val_acc: 0.9281\n",
            "Epoch 10/10\n",
            "48000/48000 [==============================] - 1s 13us/sample - loss: 0.3455 - acc: 0.9026 - val_loss: 0.2513 - val_acc: 0.9286\n",
            "[*] fitting end\n"
          ],
          "name": "stdout"
        },
        {
          "output_type": "display_data",
          "data": {
            "image/png": "[encoded data removed]",
            "text/plain": [
              "<Figure size 432x288 with 1 Axes>"
            ]
          },
          "metadata": {
            "tags": []
          }
        },
        {
          "output_type": "stream",
          "text": [
            "[*] evaluation\n",
            "10000/10000 [==============================] - 1s 86us/sample - loss: 0.2537 - acc: 0.9291\n",
            "loss : 25.4%\n",
            "accuracy : 92.9%\n",
            "[*] evaluation test\n"
          ],
          "name": "stdout"
        },
        {
          "output_type": "display_data",
          "data": {
            "image/png": "[encoded data removed]",
            "text/plain": [
              "<Figure size 432x288 with 10 Axes>"
            ]
          },
          "metadata": {
            "tags": []
          }
        },
        {
          "output_type": "stream",
          "text": [
            "labels :  [7 2 1 0 4 1 4 9 5 9]\n",
            "predic :  [7 2 1 0 4 1 4 9 6 9]\n"
          ],
          "name": "stdout"
        }
      ]
    }
  ]
}
