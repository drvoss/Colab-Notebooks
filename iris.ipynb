{
  "nbformat": 4,
  "nbformat_minor": 0,
  "metadata": {
    "colab": {
      "name": "iris.ipynb",
      "version": "0.3.2",
      "provenance": [],
      "include_colab_link": true
    },
    "kernelspec": {
      "name": "python3",
      "display_name": "Python 3"
    }
  },
  "cells": [
    {
      "cell_type": "markdown",
      "metadata": {
        "id": "view-in-github",
        "colab_type": "text"
      },
      "source": [
        "<a href=\"https://colab.research.google.com/github/drvoss/Colab-Notebooks/blob/master/iris.ipynb\" target=\"_parent\"><img src=\"https://colab.research.google.com/assets/colab-badge.svg\" alt=\"Open In Colab\"/></a>"
      ]
    },
    {
      "metadata": {
        "id": "VMab6pmOgcIP",
        "colab_type": "code",
        "colab": {
          "base_uri": "https://localhost:8080/",
          "height": 283
        },
        "outputId": "8a4b46ff-35f6-4aff-8923-15a0d3ab79fc"
      },
      "cell_type": "code",
      "source": [
        "import torch\n",
        "from torch import nn, optim\n",
        "from sklearn.datasets import load_iris\n",
        "\n",
        "iris = load_iris()\n",
        "# iris는 (0,1,2)의 세 가지 종류를 분류하는 문제이므로\n",
        "# (0,1)의 두 개 데이터만 사용한다\n",
        "# 원래는 학습용과 테스트용으로 나누어야 하지만 여기선 생략한다\n",
        "X = iris.data[:100]\n",
        "y = iris.target[:100]\n",
        "\n",
        "X = torch.tensor(X, dtype=torch.float32)\n",
        "y = torch.tensor(y, dtype=torch.float32)\n",
        "\n",
        "# iris 데이터는 4차원\n",
        "net = nn.Linear(4, 1)\n",
        "# 시그모이드 함수를 적용해서 두 클래스의 분류를 위한\n",
        "# 크로스 엔트로피를 계산\n",
        "loss_fn = nn.BCEWithLogitsLoss()\n",
        "# SGD(약간 큰 학습률)\n",
        "optimizer = optim.SGD(net.parameters(), lr=0.25)\n",
        "\n",
        "# 손실 함수 로그\n",
        "losses = []\n",
        "# 100회 반복\n",
        "for epoc in range(100):\n",
        "  # 전회의 backward 메서드로 계산된 경사값을 초기화\n",
        "  optimizer.zero_grad()\n",
        "  # 선형 모델으로 y 예측값을 계산\n",
        "  y_pred = net(X)\n",
        "  # MSE loss를 사용한 미분 계산\n",
        "  loss = loss_fn(y_pred.view_as(y), y)\n",
        "  loss.backward()\n",
        "  # 경사를 갱신한다\n",
        "  optimizer.step()\n",
        "  # 수렴 확인을 위한 loss를 기록해 둔다\n",
        "  losses.append(loss.item())\n",
        "\n",
        "%matplotlib inline\n",
        "from matplotlib import pyplot as plt\n",
        "plt.plot(losses)\n",
        "\n",
        "# 선형 결합의 결과\n",
        "h = net(X)\n",
        "# 시그모이드 함수를 적용한 결과는 y=1의 확률을 보여 준다\n",
        "#prob = nn.functional.sigmoid(h)\n",
        "prob = torch.sigmoid(h)\n",
        "# 확률이 0.5이상인 것을 클래스1로 예측하고 그외는 0으로 한다\n",
        "# PyTorch에는 Bool형이 없으므로 ByteTensor가 출력된다.\n",
        "y_pred = prob > 0.5\n",
        "# 예측 결과 확인 (yはFloatTensor이므로 ByteTensor로\n",
        "# 로 변환한 후에 비교）\n",
        "(y.byte() == y_pred.view_as(y)).sum().item()"
      ],
      "execution_count": 29,
      "outputs": [
        {
          "output_type": "execute_result",
          "data": {
            "text/plain": [
              "100"
            ]
          },
          "metadata": {
            "tags": []
          },
          "execution_count": 29
        },
        {
          "output_type": "display_data",
          "data": {
            "image/png": "[encoded data removed]",
            "text/plain": [
              "<Figure size 432x288 with 1 Axes>"
            ]
          },
          "metadata": {
            "tags": []
          }
        }
      ]
    }
  ]
}