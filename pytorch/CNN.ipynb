{
  "nbformat": 4,
  "nbformat_minor": 0,
  "metadata": {
    "colab": {
      "name": "CNN.ipynb",
      "version": "0.3.2",
      "provenance": [],
      "include_colab_link": true
    },
    "kernelspec": {
      "name": "python3",
      "display_name": "Python 3"
    },
    "accelerator": "GPU"
  },
  "cells": [
    {
      "cell_type": "markdown",
      "metadata": {
        "id": "view-in-github",
        "colab_type": "text"
      },
      "source": [
        "<a href=\"https://colab.research.google.com/github/drvoss/Colab-Notebooks/blob/master/CNN.ipynb\" target=\"_parent\"><img src=\"https://colab.research.google.com/assets/colab-badge.svg\" alt=\"Open In Colab\"/></a>"
      ]
    },
    {
      "metadata": {
        "id": "emJPiuPiYCB_",
        "colab_type": "code",
        "colab": {
          "base_uri": "https://localhost:8080/",
          "height": 737
        },
        "outputId": "cb0824cf-4dbf-4e51-c75f-c4146bc3ca8f"
      },
      "cell_type": "code",
      "source": [
        "import torch\n",
        "from torch import nn, optim\n",
        "from torch.utils.data import (Dataset,DataLoader,TensorDataset)\n",
        "import tqdm\n",
        "\n",
        "from torchvision.datasets import FashionMNIST\n",
        "from torchvision import transforms\n",
        "\n",
        "# 훈련용 데이터 가져오기\n",
        "# 초기 상태에선 PIL（Python Imaging Library) 이미지 형식으로\n",
        "# Dataset를 만들어 버린다.\n",
        "# 따라서 transforms.ToTensor를 사용해 텐서로 변환한다\n",
        "fashion_mnist_train = FashionMNIST(\"/content/FashionMNIST\"\n",
        "                                   , train=True, download=True, transform=transforms.ToTensor())\n",
        "# 검증용 데이터 가져오기\n",
        "fashion_mnist_test = FashionMNIST(\"/content/FashionMNIST\",\n",
        "                                  train=False, download=True, transform=transforms.ToTensor())\n",
        "# 배치 크기가 128인 DataLoader를 각각 작성\n",
        "batch_size=128\n",
        "train_loader = DataLoader(fashion_mnist_train, batch_size=batch_size, shuffle=True)\n",
        "test_loader = DataLoader(fashion_mnist_test, batch_size=batch_size, shuffle=False)\n",
        "\n",
        "# (N, C, H, W)형식의 텐서를(N, C*H*W)로 늘리는 계층\n",
        "# 합성곱 출력을 MLP에 전달할 때 필요\n",
        "class FlattenLayer(nn.Module):\n",
        "  def forward(self, x):\n",
        "    sizes = x.size()\n",
        "    return x.view(sizes[0], -1)\n",
        "  \n",
        "# 5×5의 커널을 사용해서 처음에 32개, 다음에 64개의 채널 작성\n",
        "# BatchNorm2d는 이미지용 Batch Normalization\n",
        "# Dropout2d는 이미지용 Dropout\n",
        "# 마지막으로 FlattenLayer 적용\n",
        "conv_net = nn.Sequential(\n",
        "  nn.Conv2d(1, 32, 5),\n",
        "  nn.MaxPool2d(2),\n",
        "  nn.ReLU(),\n",
        "  nn.BatchNorm2d(32),\n",
        "  nn.Dropout2d(0.25),\n",
        "  nn.Conv2d(32, 64, 5),\n",
        "  nn.MaxPool2d(2),\n",
        "  nn.ReLU(),\n",
        "  nn.BatchNorm2d(64),\n",
        "  nn.Dropout2d(0.25),\n",
        "  FlattenLayer()\n",
        ")\n",
        "\n",
        "# 합성곱에 의해 최종적으로 이미지 크기가 어떤지를\n",
        "# 더미 데이터를 넣어서 확인한다\n",
        "test_input = torch.ones(1, 1, 28, 28)\n",
        "conv_output_size = conv_net(test_input).size()[-1]\n",
        "# 2층 MLP\n",
        "mlp = nn.Sequential(\n",
        "  nn.Linear(conv_output_size, 200),\n",
        "  nn.ReLU(),\n",
        "  nn.BatchNorm1d(200),\n",
        "  nn.Dropout(0.25),\n",
        "  nn.Linear(200, 10)\n",
        ")\n",
        "# 최종 CNN\n",
        "net = nn.Sequential(\n",
        "  conv_net,\n",
        "  mlp\n",
        ")\n",
        "\n",
        "# 평가용 헬퍼 함수\n",
        "def eval_net(net, data_loader, device=\"cpu\"):\n",
        "  # Dropout 및 BatchNorm을 무효화\n",
        "  net.eval()\n",
        "  ys = []\n",
        "  ypreds = []\n",
        "  for x, y in data_loader:\n",
        "    # to 메서드로 계산을 실행할 디바이스로 전송\n",
        "    x = x.to(device)\n",
        "    y = y.to(device)\n",
        "    # 확률이 가장 큰 분류를 예측(리스트 2.1 참조)\n",
        "    # 여기선 forward（추론） 계산이 전부이므로 자동 미분에\n",
        "    # 필요한 처리는 off로 설정해서 불필요한 계산을 제한다\n",
        "    with torch.no_grad():\n",
        "      _, y_pred = net(x).max(1)\n",
        "    ys.append(y)\n",
        "    ypreds.append(y_pred)\n",
        "    # 미니 배치 단위의 예측 결과 등을 하나로 묶는다\n",
        "    ys = torch.cat(ys)\n",
        "    ypreds = torch.cat(ypreds)\n",
        "    # 예측 정확도 계산\n",
        "    acc = (ys == ypreds).float().sum() / len(ys)\n",
        "    return acc.item()\n",
        "\n",
        "# 훈련용 헬퍼 함수\n",
        "def train_net(net, train_loader, test_loader,\n",
        "              optimizer_cls=optim.Adam,\n",
        "              loss_fn=nn.CrossEntropyLoss(),\n",
        "              n_iter=10, device=\"cpu\"):\n",
        "  train_losses = []\n",
        "  train_acc = []\n",
        "  val_acc = []\n",
        "  optimizer = optimizer_cls(net.parameters())\n",
        "  for epoch in range(n_iter):\n",
        "    running_loss = 0.0\n",
        "    # 신경망을 훈련 모드로 설정\n",
        "    net.train()\n",
        "    n = 0\n",
        "    n_acc = 0\n",
        "    # 시간이 많이 걸리므로 tqdm을 사용해서 진행바를 표시\n",
        "    for i, (xx, yy) in tqdm.tqdm(enumerate(train_loader),\n",
        "      total=len(train_loader)):\n",
        "      xx = xx.to(device)\n",
        "      yy = yy.to(device)\n",
        "      h = net(xx)\n",
        "      loss = loss_fn(h, yy)\n",
        "      optimizer.zero_grad()\n",
        "      loss.backward()\n",
        "      optimizer.step()\n",
        "      running_loss += loss.item()\n",
        "      n += len(xx)\n",
        "      _, y_pred = h.max(1)\n",
        "      n_acc += (yy == y_pred).float().sum().item()\n",
        "    train_losses.append(running_loss / i)\n",
        "    # 훈련 데이터의 예측 정확도\n",
        "    train_acc.append(n_acc / n)\n",
        "    # 검증 데이터의 예측 정확도\n",
        "    val_acc.append(eval_net(net, test_loader, device))\n",
        "    # epoch의 결과 표시\n",
        "    print(epoch, train_losses[-1], train_acc[-1], val_acc[-1], flush=True)\n",
        "    \n",
        "    \n",
        "# 신경망의 모든 파라미터를 GPU로 전송\n",
        "net.to(\"cuda:0\")\n",
        "\n",
        "# 훈련 실행\n",
        "train_net(net, train_loader, test_loader, n_iter=20, device=\"cuda:0\")"
      ],
      "execution_count": 2,
      "outputs": [
        {
          "output_type": "stream",
          "text": [
            "100%|██████████| 469/469 [00:12<00:00, 39.02it/s]"
          ],
          "name": "stderr"
        },
        {
          "output_type": "stream",
          "text": [
            "0 0.4709450727026177 0.8356333333333333 0.9140625\n"
          ],
          "name": "stdout"
        },
        {
          "output_type": "stream",
          "text": [
            "\n",
            "100%|██████████| 469/469 [00:11<00:00, 39.27it/s]"
          ],
          "name": "stderr"
        },
        {
          "output_type": "stream",
          "text": [
            "1 0.3178658871314464 0.8840833333333333 0.9296875\n"
          ],
          "name": "stdout"
        },
        {
          "output_type": "stream",
          "text": [
            "\n",
            "100%|██████████| 469/469 [00:12<00:00, 39.04it/s]"
          ],
          "name": "stderr"
        },
        {
          "output_type": "stream",
          "text": [
            "2 0.2831387585108606 0.8968333333333334 0.8671875\n"
          ],
          "name": "stdout"
        },
        {
          "output_type": "stream",
          "text": [
            "\n",
            "100%|██████████| 469/469 [00:12<00:00, 38.74it/s]\n"
          ],
          "name": "stderr"
        },
        {
          "output_type": "stream",
          "text": [
            "3 0.26109899691918975 0.9038833333333334 0.90625\n"
          ],
          "name": "stdout"
        },
        {
          "output_type": "stream",
          "text": [
            "100%|██████████| 469/469 [00:12<00:00, 38.94it/s]"
          ],
          "name": "stderr"
        },
        {
          "output_type": "stream",
          "text": [
            "4 0.24388458288441867 0.9102166666666667 0.90625\n"
          ],
          "name": "stdout"
        },
        {
          "output_type": "stream",
          "text": [
            "\n",
            "100%|██████████| 469/469 [00:12<00:00, 38.94it/s]"
          ],
          "name": "stderr"
        },
        {
          "output_type": "stream",
          "text": [
            "5 0.23057495928409263 0.9152333333333333 0.9375\n"
          ],
          "name": "stdout"
        },
        {
          "output_type": "stream",
          "text": [
            "\n",
            "100%|██████████| 469/469 [00:12<00:00, 38.78it/s]"
          ],
          "name": "stderr"
        },
        {
          "output_type": "stream",
          "text": [
            "6 0.22374097264220572 0.9171833333333334 0.9140625\n"
          ],
          "name": "stdout"
        },
        {
          "output_type": "stream",
          "text": [
            "\n",
            "100%|██████████| 469/469 [00:12<00:00, 38.79it/s]"
          ],
          "name": "stderr"
        },
        {
          "output_type": "stream",
          "text": [
            "7 0.21186251392285538 0.9208 0.8984375\n"
          ],
          "name": "stdout"
        },
        {
          "output_type": "stream",
          "text": [
            "\n",
            "100%|██████████| 469/469 [00:12<00:00, 39.33it/s]"
          ],
          "name": "stderr"
        },
        {
          "output_type": "stream",
          "text": [
            "8 0.20561322913720056 0.9242166666666667 0.921875\n"
          ],
          "name": "stdout"
        },
        {
          "output_type": "stream",
          "text": [
            "\n",
            "100%|██████████| 469/469 [00:12<00:00, 38.91it/s]"
          ],
          "name": "stderr"
        },
        {
          "output_type": "stream",
          "text": [
            "9 0.19614422563304248 0.9281833333333334 0.921875\n"
          ],
          "name": "stdout"
        },
        {
          "output_type": "stream",
          "text": [
            "\n",
            "100%|██████████| 469/469 [00:12<00:00, 38.56it/s]"
          ],
          "name": "stderr"
        },
        {
          "output_type": "stream",
          "text": [
            "10 0.1924770161127433 0.9279333333333334 0.90625\n"
          ],
          "name": "stdout"
        },
        {
          "output_type": "stream",
          "text": [
            "\n",
            "100%|██████████| 469/469 [00:12<00:00, 38.80it/s]\n"
          ],
          "name": "stderr"
        },
        {
          "output_type": "stream",
          "text": [
            "11 0.18360834476402682 0.93155 0.8984375\n"
          ],
          "name": "stdout"
        },
        {
          "output_type": "stream",
          "text": [
            "100%|██████████| 469/469 [00:11<00:00, 39.66it/s]"
          ],
          "name": "stderr"
        },
        {
          "output_type": "stream",
          "text": [
            "12 0.18042752525617933 0.9322666666666667 0.8984375\n"
          ],
          "name": "stdout"
        },
        {
          "output_type": "stream",
          "text": [
            "\n",
            "100%|██████████| 469/469 [00:12<00:00, 39.08it/s]"
          ],
          "name": "stderr"
        },
        {
          "output_type": "stream",
          "text": [
            "13 0.1753551851416755 0.9340333333333334 0.9140625\n"
          ],
          "name": "stdout"
        },
        {
          "output_type": "stream",
          "text": [
            "\n",
            "100%|██████████| 469/469 [00:12<00:00, 38.73it/s]"
          ],
          "name": "stderr"
        },
        {
          "output_type": "stream",
          "text": [
            "14 0.16928247161782706 0.93615 0.8984375\n"
          ],
          "name": "stdout"
        },
        {
          "output_type": "stream",
          "text": [
            "\n",
            "100%|██████████| 469/469 [00:12<00:00, 38.82it/s]\n"
          ],
          "name": "stderr"
        },
        {
          "output_type": "stream",
          "text": [
            "15 0.1649052678949685 0.9371833333333334 0.90625\n"
          ],
          "name": "stdout"
        },
        {
          "output_type": "stream",
          "text": [
            "100%|██████████| 469/469 [00:12<00:00, 38.99it/s]\n"
          ],
          "name": "stderr"
        },
        {
          "output_type": "stream",
          "text": [
            "16 0.1640926521175947 0.9378833333333333 0.890625\n"
          ],
          "name": "stdout"
        },
        {
          "output_type": "stream",
          "text": [
            "100%|██████████| 469/469 [00:12<00:00, 39.04it/s]"
          ],
          "name": "stderr"
        },
        {
          "output_type": "stream",
          "text": [
            "17 0.15682011450298577 0.9412833333333334 0.9140625\n"
          ],
          "name": "stdout"
        },
        {
          "output_type": "stream",
          "text": [
            "\n",
            "100%|██████████| 469/469 [00:12<00:00, 38.80it/s]\n"
          ],
          "name": "stderr"
        },
        {
          "output_type": "stream",
          "text": [
            "18 0.15448637937919962 0.9417 0.90625\n"
          ],
          "name": "stdout"
        },
        {
          "output_type": "stream",
          "text": [
            "100%|██████████| 469/469 [00:12<00:00, 38.85it/s]"
          ],
          "name": "stderr"
        },
        {
          "output_type": "stream",
          "text": [
            "19 0.15426106404704162 0.94265 0.90625\n"
          ],
          "name": "stdout"
        },
        {
          "output_type": "stream",
          "text": [
            "\n"
          ],
          "name": "stderr"
        }
      ]
    }
  ]
}