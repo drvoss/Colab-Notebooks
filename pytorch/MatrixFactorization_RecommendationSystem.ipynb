{
  "nbformat": 4,
  "nbformat_minor": 0,
  "metadata": {
    "colab": {
      "name": "MatrixFactorization_RecommendationSystem.ipynb",
      "version": "0.3.2",
      "provenance": [],
      "include_colab_link": true
    },
    "kernelspec": {
      "name": "python3",
      "display_name": "Python 3"
    },
    "accelerator": "GPU"
  },
  "cells": [
    {
      "cell_type": "markdown",
      "metadata": {
        "id": "view-in-github",
        "colab_type": "text"
      },
      "source": [
        "<a href=\"https://colab.research.google.com/github/drvoss/Colab-Notebooks/blob/master/MatrixFactorization_RecommendationSystem.ipynb\" target=\"_parent\"><img src=\"https://colab.research.google.com/assets/colab-badge.svg\" alt=\"Open In Colab\"/></a>"
      ]
    },
    {
      "metadata": {
        "id": "IlMItqWSKvGG",
        "colab_type": "code",
        "colab": {
          "base_uri": "https://localhost:8080/",
          "height": 377
        },
        "outputId": "8de0149d-e352-459a-cda1-947814f27fe7"
      },
      "cell_type": "code",
      "source": [
        "!wget http://files.grouplens.org/datasets/movielens/ml-20m.zip\n",
        "!unzip ml-20m.zip"
      ],
      "execution_count": 1,
      "outputs": [
        {
          "output_type": "stream",
          "text": [
            "--2019-03-20 12:55:07--  http://files.grouplens.org/datasets/movielens/ml-20m.zip\n",
            "Resolving files.grouplens.org (files.grouplens.org)... 128.101.34.235\n",
            "Connecting to files.grouplens.org (files.grouplens.org)|128.101.34.235|:80... connected.\n",
            "HTTP request sent, awaiting response... 200 OK\n",
            "Length: 198702078 (189M) [application/zip]\n",
            "Saving to: ‘ml-20m.zip’\n",
            "\n",
            "ml-20m.zip          100%[===================>] 189.50M  66.8MB/s    in 2.8s    \n",
            "\n",
            "2019-03-20 12:55:10 (66.8 MB/s) - ‘ml-20m.zip’ saved [198702078/198702078]\n",
            "\n",
            "Archive:  ml-20m.zip\n",
            "   creating: ml-20m/\n",
            "  inflating: ml-20m/genome-scores.csv  \n",
            "  inflating: ml-20m/genome-tags.csv  \n",
            "  inflating: ml-20m/links.csv        \n",
            "  inflating: ml-20m/movies.csv       \n",
            "  inflating: ml-20m/ratings.csv      \n",
            "  inflating: ml-20m/README.txt       \n",
            "  inflating: ml-20m/tags.csv         \n"
          ],
          "name": "stdout"
        }
      ]
    },
    {
      "metadata": {
        "id": "vHgrrY_jKwfV",
        "colab_type": "code",
        "colab": {}
      },
      "cell_type": "code",
      "source": [
        "import torch\n",
        "from torch import nn, optim\n",
        "from torch.utils.data import (Dataset,DataLoader,TensorDataset)\n",
        "import tqdm\n",
        "\n",
        "import pandas as pd\n",
        "# 훈련 데이터와 테스트 데이터를 나누기 위해 사용한다\n",
        "from sklearn import model_selection\n",
        "\n",
        "df = pd.read_csv(\"/content/ml-20m/ratings.csv\")\n",
        "# X는 (userId, movieId) 쌍\n",
        "X = df[[\"userId\", \"movieId\"]].values\n",
        "Y = df[[\"rating\"]].values\n",
        "# 훈련 데이터와 테스트 데이터를 9대 1로 분할\n",
        "train_X, test_X, train_Y, test_Y\\\n",
        "  = model_selection.train_test_split(X, Y, test_size=0.1)\n",
        "# X는 ID이고 정수이므로 int64, Y는 실수이므로 float32의 텐서로 변환\n",
        "train_dataset = TensorDataset(\n",
        "  torch.tensor(train_X, dtype=torch.int64), torch.tensor(train_Y, dtype=torch.float32))\n",
        "test_dataset = TensorDataset(\n",
        "torch.tensor(test_X, dtype=torch.int64), torch.tensor(test_Y, dtype=torch.float32))\n",
        "train_loader = DataLoader(train_dataset, batch_size=1024, num_workers=4, shuffle=True)\n",
        "test_loader = DataLoader(test_dataset, batch_size=1024, num_workers=4)\n",
        "\n",
        "class MatrixFactorization(nn.Module):\n",
        "  def __init__(self, max_user, max_item, k=20):\n",
        "    super().__init__()\n",
        "    self.max_user = max_user\n",
        "    self.max_item = max_item\n",
        "    self.user_emb = nn.Embedding(max_user, k, 0)\n",
        "    self.item_emb = nn.Embedding(max_item, k, 0)\n",
        "\n",
        "  def forward(self, x):\n",
        "    user_idx = x[:, 0]\n",
        "    item_idx = x[:, 1]\n",
        "    user_feature = self.user_emb(user_idx)\n",
        "    item_feature = self.item_emb(item_idx)\n",
        "    # user_feature*item_feature는 (batch_size,k) 차원이므로\n",
        "    # k의 sum을 구하면 각 샘플의 내적이 된다\n",
        "    out = torch.sum(user_feature * item_feature, 1)\n",
        "    # [0, 5] 범위 내로 조정\n",
        "    out = nn.functional.sigmoid(out) * 5\n",
        "    return out\n",
        "  \n",
        "max_user, max_item = X.max(0)\n",
        "# np.int64형을 파이썬의 표준 int로 캐스트\n",
        "max_user = int(max_user)\n",
        "max_item = int(max_item)\n",
        "net = MatrixFactorization(max_user+1, max_item+1)\n",
        "\n",
        "def eval_net(net, loader, score_fn=nn.functional.l1_loss, device=\"cpu\"):\n",
        "  ys = []\n",
        "  ypreds = []\n",
        "  for x, y in loader:\n",
        "    x = x.to(device)\n",
        "    ys.append(y)\n",
        "    with torch.no_grad():\n",
        "      ypred = net(x).to(\"cpu\").view(-1)\n",
        "    ypreds.append(ypred)\n",
        "  score = score_fn(torch.cat(ys).squeeze(), torch.cat(ypreds))\n",
        "  return score.item()\n",
        "\n",
        "from statistics import mean\n",
        "net.to(\"cuda:0\")\n",
        "opt = optim.Adam(net.parameters(), lr=0.01)\n",
        "loss_f = nn.MSELoss()\n",
        "for epoch in range(5):\n",
        "  loss_log = []\n",
        "  for x, y in tqdm.tqdm(train_loader):\n",
        "    x = x.to(\"cuda:0\")\n",
        "    y = y.to(\"cuda:0\")\n",
        "    o = net(x)\n",
        "    loss = loss_f(o, y.view(-1))\n",
        "    net.zero_grad()\n",
        "    loss.backward()\n",
        "    opt.step()\n",
        "    loss_log.append(loss.item())\n",
        "  test_score = eval_net(net, test_loader, device=\"cuda:0\")\n",
        "  print(epoch, mean(loss_log), test_score, flush=True)\n",
        "  \n",
        "# 훈련한 모델을 CPU로 이동\n",
        "net.to(\"cpu\")\n",
        "# 사용자1의 영화10에 대한 평가 계산\n",
        "query = (1, 10)\n",
        "# int64 텐서로 변환하고 batch 차원을 추가\n",
        "query = torch.tensor(query, dtype=torch.int64).view(1, -1)\n",
        "# net에 전달\n",
        "net(query)\n",
        "\n",
        "query = torch.stack([\n",
        "torch.zeros(max_item).fill_(1),\n",
        "torch.arange(1, max_item+1)\n",
        "], 1).long()\n",
        "# scores는 상위 k개의 점수\n",
        "# indices는 상위 k개의 위치, 즉 movieId\n",
        "scores, indices = torch.topk(net(query), 5)"
      ],
      "execution_count": 0,
      "outputs": []
    }
  ]
}