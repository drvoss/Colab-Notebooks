{
  "nbformat": 4,
  "nbformat_minor": 0,
  "metadata": {
    "colab": {
      "name": "hand_writing_seperation.ipynb",
      "version": "0.3.2",
      "provenance": [],
      "collapsed_sections": [],
      "include_colab_link": true
    },
    "kernelspec": {
      "name": "python3",
      "display_name": "Python 3"
    }
  },
  "cells": [
    {
      "cell_type": "markdown",
      "metadata": {
        "id": "view-in-github",
        "colab_type": "text"
      },
      "source": [
        "<a href=\"https://colab.research.google.com/github/drvoss/Colab-Notebooks/blob/master/hand_writing_seperation.ipynb\" target=\"_parent\"><img src=\"https://colab.research.google.com/assets/colab-badge.svg\" alt=\"Open In Colab\"/></a>"
      ]
    },
    {
      "metadata": {
        "id": "Fn-1vP1PiwsQ",
        "colab_type": "code",
        "colab": {
          "base_uri": "https://localhost:8080/",
          "height": 283
        },
        "outputId": "6f4b2c02-7d70-476a-8141-6eadc8ecff2c"
      },
      "cell_type": "code",
      "source": [
        "import torch\n",
        "from sklearn.datasets import load_digits\n",
        "from torch import nn, optim\n",
        "\n",
        "digits = load_digits()\n",
        "X = digits.data\n",
        "y = digits.target\n",
        "X = torch.tensor(X, dtype=torch.float32)\n",
        "# CrossEntropyLoss 함수는 y로 int64형의 텐서를 받으니 주의하자\n",
        "y = torch.tensor(y, dtype=torch.int64)\n",
        "# 출력은 10(분류 수) 차원\n",
        "net = nn.Linear(X.size()[1], 10)\n",
        "# 소프트맥스 크로스 엔트로피\n",
        "loss_fn = nn.CrossEntropyLoss()\n",
        "# SGD\n",
        "optimizer = optim.SGD(net.parameters(), lr=0.01)\n",
        "\n",
        "# 손실 함수 로그\n",
        "losses = []\n",
        "# 100회 반복\n",
        "for epoc in range(100):\n",
        "  # 전회의 backward 메서드로 계산된 경사값을 초기화\n",
        "  optimizer.zero_grad()\n",
        "  # 선형 모델으로 y 예측값을 계산\n",
        "  y_pred = net(X)\n",
        "  # MSE loss 미분 계산\n",
        "  loss = loss_fn(y_pred, y)\n",
        "  loss.backward()\n",
        "  # 경사를 갱신한다\n",
        "  optimizer.step()\n",
        "  # 수렴 확인을 위한 loss를 기록해 둔다\n",
        "  losses.append(loss.item())\n",
        "  \n",
        "%matplotlib inline\n",
        "from matplotlib import pyplot as plt\n",
        "plt.plot(losses)\n",
        "\n",
        "# torch.max눈 집계축을 지정하면 최댓값뿐만 아니라 그 위치도 반환한다\n",
        "_, y_pred = torch.max(net(X), 1)\n",
        "# 정답률을 계산한다\n",
        "(y_pred == y).sum().item() / len(y)"
      ],
      "execution_count": 12,
      "outputs": [
        {
          "output_type": "execute_result",
          "data": {
            "text/plain": [
              "0.9476905954368392"
            ]
          },
          "metadata": {
            "tags": []
          },
          "execution_count": 12
        },
        {
          "output_type": "display_data",
          "data": {
            "image/png": "[encoded data removed]",
            "text/plain": [
              "<Figure size 432x288 with 1 Axes>"
            ]
          },
          "metadata": {
            "tags": []
          }
        }
      ]
    }
  ]
}