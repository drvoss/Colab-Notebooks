{
  "nbformat": 4,
  "nbformat_minor": 0,
  "metadata": {
    "colab": {
      "name": "test.ipynb",
      "version": "0.3.2",
      "provenance": [],
      "collapsed_sections": [],
      "include_colab_link": true
    },
    "kernelspec": {
      "name": "python3",
      "display_name": "Python 3"
    },
    "accelerator": "GPU"
  },
  "cells": [
    {
      "cell_type": "markdown",
      "metadata": {
        "id": "view-in-github",
        "colab_type": "text"
      },
      "source": [
        "<a href=\"https://colab.research.google.com/github/drvoss/Colab-Notebooks/blob/master/test.ipynb\" target=\"_parent\"><img src=\"https://colab.research.google.com/assets/colab-badge.svg\" alt=\"Open In Colab\"/></a>"
      ]
    },
    {
      "metadata": {
        "id": "ACRVSR5jGl_p",
        "colab_type": "code",
        "colab": {
          "base_uri": "https://localhost:8080/",
          "height": 283
        },
        "outputId": "89e60e30-f169-437b-9324-f8bfcc019126"
      },
      "cell_type": "code",
      "source": [
        "import numpy as np\n",
        "import torch\n",
        "\n",
        "# 참(true)의 계수\n",
        "w_true = torch.Tensor([1, 2, 3])\n",
        "# X 데이터 준비. 절편을 회귀 계수에 포함시키기 위해\n",
        "# X의 최초 차원에 1을 추가해 둔다\n",
        "X = torch.cat([torch.ones(100, 1), torch.randn(100, 2)], 1)\n",
        "# 참의 계수와 각 X의 내적을 행렬과 벡터의 곱으로 모아서 계산\n",
        "y = torch.mv(X, w_true) + torch.randn(100) * 0.5\n",
        "# 기울기 하강으로 최적화하기 위해 파라미터 Tensor를\n",
        "# 난수로 초기화해서 생성\n",
        "w = torch.randn(3, requires_grad=True)\n",
        "# 학습률\n",
        "gamma = 0.1\n",
        "\n",
        "# 손실 함수의 로그\n",
        "losses = []\n",
        "# 100회 반복\n",
        "for epoc in range(100):\n",
        "  # 전회의 backward 메서드로 계산된 경사값을 초기화\n",
        "  w.grad = None\n",
        "  # 선형 모델로 y 예측값을 계산\n",
        "  y_pred = torch.mv(X, w)\n",
        "  # MSE loss와 w에 의한 미분을 계산\n",
        "  loss = torch.mean((y - y_pred)**2)\n",
        "  loss.backward()\n",
        "  # 경사를 갱신한다\n",
        "  # w를 그대로 대입해서 갱신하면 다른 텐서가 돼서\n",
        "  # 계산 그래프가 망가진다. 따라서 data만 갱신한다\n",
        "  w.data = w.data - gamma * w.grad.data\n",
        "  # 수렴 확인을 위한 loss를 기록해 둔다\n",
        "  losses.append(loss.item())\n",
        "\n",
        "%matplotlib inline\n",
        "from matplotlib import pyplot as plt\n",
        "plt.plot(losses)\n",
        "\n",
        "w"
      ],
      "execution_count": 46,
      "outputs": [
        {
          "output_type": "execute_result",
          "data": {
            "text/plain": [
              "tensor([0.9984, 2.0263, 2.8626], requires_grad=True)"
            ]
          },
          "metadata": {
            "tags": []
          },
          "execution_count": 46
        },
        {
          "output_type": "display_data",
          "data": {
            "image/png": "[encoded data removed]",
            "text/plain": [
              "<Figure size 432x288 with 1 Axes>"
            ]
          },
          "metadata": {
            "tags": []
          }
        }
      ]
    },
    {
      "metadata": {
        "id": "ykDDpYx_7wrz",
        "colab_type": "code",
        "colab": {}
      },
      "cell_type": "code",
      "source": [
        ""
      ],
      "execution_count": 0,
      "outputs": []
    }
  ]
}