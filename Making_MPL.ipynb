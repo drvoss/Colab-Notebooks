{
  "nbformat": 4,
  "nbformat_minor": 0,
  "metadata": {
    "colab": {
      "name": "Making MPL.ipynb",
      "version": "0.3.2",
      "provenance": [],
      "collapsed_sections": [],
      "include_colab_link": true
    },
    "kernelspec": {
      "name": "python3",
      "display_name": "Python 3"
    },
    "accelerator": "GPU"
  },
  "cells": [
    {
      "cell_type": "markdown",
      "metadata": {
        "id": "view-in-github",
        "colab_type": "text"
      },
      "source": [
        "<a href=\"https://colab.research.google.com/github/drvoss/Colab-Notebooks/blob/master/Making_MPL.ipynb\" target=\"_parent\"><img src=\"https://colab.research.google.com/assets/colab-badge.svg\" alt=\"Open In Colab\"/></a>"
      ]
    },
    {
      "metadata": {
        "id": "HwXJ1gNWkLc4",
        "colab_type": "code",
        "colab": {
          "base_uri": "https://localhost:8080/",
          "height": 283
        },
        "outputId": "094a520c-1753-4a6c-e182-be718cebcec5"
      },
      "cell_type": "code",
      "source": [
        "import torch\n",
        "from torch import nn\n",
        "net = nn.Sequential(\n",
        "  nn.Linear(64, 32),\n",
        "  nn.ReLU(),\n",
        "  nn.Linear(32, 16),\n",
        "  nn.ReLU(),\n",
        "  nn.Linear(16, 10)\n",
        ")\n",
        "\n",
        "from torch import optim\n",
        "from sklearn.datasets import load_digits\n",
        "digits = load_digits()\n",
        "X = digits.data\n",
        "Y = digits.target\n",
        "\n",
        "# NumPy의 ndarray를 파이토치의 텐서로 변환\n",
        "X = torch.tensor(X, dtype=torch.float32)\n",
        "Y = torch.tensor(Y, dtype=torch.int64)\n",
        "\n",
        "#X = torch.tensor(X, device=\"cuda:0\")\n",
        "#Y = torch.tensor(Y, device=\"cuda:0\")\n",
        "\n",
        "#using GPU start\n",
        "X = X.to(\"cuda:0\")\n",
        "Y = Y.to(\"cuda:0\")\n",
        "net.to(\"cuda:0\")\n",
        "# 이후 처리는 동일하게 optimizer를 설정해서 학습 루프를 돌린다\n",
        "#using GPU end\n",
        "\n",
        "# 소프트맥스 크로스 엔트로피\n",
        "loss_fn = nn.CrossEntropyLoss()\n",
        "\n",
        "# Adam\n",
        "optimizer = optim.Adam(net.parameters())\n",
        "# 손실 함수의 로그\n",
        "losses = []\n",
        "# 100회 반복\n",
        "for epoc in range(100):\n",
        "  # backward 메서드로 계산된\n",
        "  # 이전 값을 삭제\n",
        "  optimizer.zero_grad()\n",
        "  # 선형 모델로 y의 예측 값 계산\n",
        "  y_pred = net(X)\n",
        "  # MSE loss와 w를 사용한 미분 계산\n",
        "  loss = loss_fn(y_pred, Y)\n",
        "  loss.backward()\n",
        "  # 경사를 갱신\n",
        "  optimizer.step()\n",
        "  # 수렴 확인을 위해 loss를 기록해 둔다\n",
        "  losses.append(loss.item())\n",
        "  \n",
        "%matplotlib inline\n",
        "from matplotlib import pyplot as plt\n",
        "plt.plot(losses)\n"
      ],
      "execution_count": 1,
      "outputs": [
        {
          "output_type": "execute_result",
          "data": {
            "text/plain": [
              "[<matplotlib.lines.Line2D at 0x7f32db9afa20>]"
            ]
          },
          "metadata": {
            "tags": []
          },
          "execution_count": 1
        },
        {
          "output_type": "display_data",
          "data": {
            "image/png": "[encoded data removed]",
            "text/plain": [
              "<Figure size 432x288 with 1 Axes>"
            ]
          },
          "metadata": {
            "tags": []
          }
        }
      ]
    },
    {
      "metadata": {
        "id": "V3vOnpCinYP9",
        "colab_type": "code",
        "colab": {}
      },
      "cell_type": "code",
      "source": [
        ""
      ],
      "execution_count": 0,
      "outputs": []
    }
  ]
}